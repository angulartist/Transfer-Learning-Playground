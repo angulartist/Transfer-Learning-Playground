{
 "cells": [
  {
   "cell_type": "code",
   "execution_count": 16,
   "metadata": {},
   "outputs": [],
   "source": [
    "import h5py as h5\n",
    "import numpy as np\n",
    "\n",
    "from sklearn.model_selection import GridSearchCV, RandomizedSearchCV\n",
    "from sklearn.metrics import classification_report\n",
    "from sklearn.linear_model import LogisticRegression, SGDClassifier\n",
    "from sklearn.ensemble import RandomForestClassifier"
   ]
  },
  {
   "cell_type": "code",
   "execution_count": 17,
   "metadata": {},
   "outputs": [],
   "source": [
    "# Grab extracted features and labels (TRAIN SET).\n",
    "with h5.File('features_train.h5', 'r') as file:\n",
    "    X_train, y_train = file['images'][:], file['labels'][:]"
   ]
  },
  {
   "cell_type": "code",
   "execution_count": 25,
   "metadata": {},
   "outputs": [],
   "source": [
    "# Params used to find the best estimator.\n",
    "params = {\n",
    "    'bootstrap': [True],\n",
    "    'max_depth': [80, 90, 100, 110],\n",
    "    'max_features': [2, 3],\n",
    "    'min_samples_leaf': [3, 4, 5],\n",
    "    'min_samples_split': [8, 10, 12],\n",
    "    'n_estimators': [100, 200, 300, 1000],\n",
    "}\n",
    "\n",
    "model1_ = GridSearchCV(\n",
    "    RandomForestClassifier(),\n",
    "    param_grid=params,\n",
    "    cv=5,\n",
    "    n_jobs=-1, # -1: all cores\n",
    "    verbose=10,\n",
    ")\n",
    "\n",
    "model = SGDClassifier(\n",
    "    verbose=2,\n",
    ")"
   ]
  },
  {
   "cell_type": "code",
   "execution_count": 26,
   "metadata": {
    "scrolled": true
   },
   "outputs": [
    {
     "name": "stdout",
     "output_type": "stream",
     "text": [
      "-- Epoch 1\n",
      "Norm: 115746.01, NNZs: 24828, Bias: 41.873202, T: 498, Avg. loss: 870468.282545\n",
      "Total training time: 0.03 seconds.\n",
      "-- Epoch 2\n",
      "Norm: 95799.54, NNZs: 24937, Bias: 52.012983, T: 996, Avg. loss: 133229.346834\n",
      "Total training time: 0.05 seconds.\n",
      "-- Epoch 3\n",
      "Norm: 80211.79, NNZs: 24951, Bias: 46.662279, T: 1494, Avg. loss: 25445.512166\n",
      "Total training time: 0.07 seconds.\n",
      "-- Epoch 4\n",
      "Norm: 67512.89, NNZs: 24955, Bias: 50.161462, T: 1992, Avg. loss: 7308.196298\n",
      "Total training time: 0.09 seconds.\n",
      "-- Epoch 5\n",
      "Norm: 58710.21, NNZs: 24960, Bias: 50.033827, T: 2490, Avg. loss: 5197.541822\n",
      "Total training time: 0.11 seconds.\n",
      "-- Epoch 6\n",
      "Norm: 51376.95, NNZs: 24960, Bias: 50.033827, T: 2988, Avg. loss: 0.000000\n",
      "Total training time: 0.13 seconds.\n",
      "-- Epoch 7\n",
      "Norm: 45672.22, NNZs: 24960, Bias: 50.033827, T: 3486, Avg. loss: 0.000000\n",
      "Total training time: 0.14 seconds.\n",
      "-- Epoch 8\n",
      "Norm: 41107.75, NNZs: 24960, Bias: 50.033827, T: 3984, Avg. loss: 0.000000\n",
      "Total training time: 0.16 seconds.\n",
      "-- Epoch 9\n",
      "Norm: 37372.73, NNZs: 24960, Bias: 50.033827, T: 4482, Avg. loss: 0.000000\n",
      "Total training time: 0.18 seconds.\n",
      "-- Epoch 10\n",
      "Norm: 34259.90, NNZs: 24960, Bias: 50.033827, T: 4980, Avg. loss: 0.000000\n",
      "Total training time: 0.20 seconds.\n",
      "-- Epoch 11\n",
      "Norm: 31625.74, NNZs: 24960, Bias: 50.033827, T: 5478, Avg. loss: 0.000000\n",
      "Total training time: 0.21 seconds.\n",
      "Convergence after 11 epochs took 0.21 seconds\n"
     ]
    },
    {
     "data": {
      "text/plain": [
       "SGDClassifier(alpha=0.0001, average=False, class_weight=None,\n",
       "              early_stopping=False, epsilon=0.1, eta0=0.0, fit_intercept=True,\n",
       "              l1_ratio=0.15, learning_rate='optimal', loss='hinge',\n",
       "              max_iter=1000, n_iter_no_change=5, n_jobs=None, penalty='l2',\n",
       "              power_t=0.5, random_state=None, shuffle=True, tol=0.001,\n",
       "              validation_fraction=0.1, verbose=2, warm_start=False)"
      ]
     },
     "execution_count": 26,
     "metadata": {},
     "output_type": "execute_result"
    }
   ],
   "source": [
    "model.fit(X_train, y_train)"
   ]
  },
  {
   "cell_type": "code",
   "execution_count": 14,
   "metadata": {},
   "outputs": [
    {
     "ename": "AttributeError",
     "evalue": "'SGDClassifier' object has no attribute 'best_estimator_'",
     "output_type": "error",
     "traceback": [
      "\u001b[0;31m---------------------------------------------------------------------------\u001b[0m",
      "\u001b[0;31mAttributeError\u001b[0m                            Traceback (most recent call last)",
      "\u001b[0;32m<ipython-input-14-1157d5fbf781>\u001b[0m in \u001b[0;36m<module>\u001b[0;34m\u001b[0m\n\u001b[0;32m----> 1\u001b[0;31m \u001b[0mprint\u001b[0m\u001b[0;34m(\u001b[0m\u001b[0;34m'Best estimator is'\u001b[0m\u001b[0;34m,\u001b[0m \u001b[0mmodel\u001b[0m\u001b[0;34m.\u001b[0m\u001b[0mbest_estimator_\u001b[0m\u001b[0;34m)\u001b[0m\u001b[0;34m\u001b[0m\u001b[0;34m\u001b[0m\u001b[0m\n\u001b[0m\u001b[1;32m      2\u001b[0m \u001b[0mprint\u001b[0m\u001b[0;34m(\u001b[0m\u001b[0;34m'Best score is'\u001b[0m\u001b[0;34m,\u001b[0m \u001b[0mmodel\u001b[0m\u001b[0;34m.\u001b[0m\u001b[0mbest_score_\u001b[0m\u001b[0;34m)\u001b[0m\u001b[0;34m\u001b[0m\u001b[0;34m\u001b[0m\u001b[0m\n",
      "\u001b[0;31mAttributeError\u001b[0m: 'SGDClassifier' object has no attribute 'best_estimator_'"
     ]
    }
   ],
   "source": [
    "print('Best estimator is', model.best_estimator_)\n",
    "print('Best score is', model.best_score_)"
   ]
  },
  {
   "cell_type": "code",
   "execution_count": 27,
   "metadata": {},
   "outputs": [
    {
     "name": "stdout",
     "output_type": "stream",
     "text": [
      "-- Epoch 1\n",
      "Norm: 122252.75, NNZs: 24901, Bias: 62.927456, T: 498, Avg. loss: 829845.861234\n",
      "Total training time: 0.03 seconds.\n",
      "-- Epoch 2\n",
      "Norm: 101773.04, NNZs: 24982, Bias: 68.315072, T: 996, Avg. loss: 220064.439163\n",
      "Total training time: 0.05 seconds.\n",
      "-- Epoch 3\n",
      "Norm: 84870.87, NNZs: 25000, Bias: 68.361218, T: 1494, Avg. loss: 42347.981681\n",
      "Total training time: 0.07 seconds.\n",
      "-- Epoch 4\n",
      "Norm: 70739.91, NNZs: 25000, Bias: 68.361218, T: 1992, Avg. loss: 0.000000\n",
      "Total training time: 0.09 seconds.\n",
      "-- Epoch 5\n",
      "Norm: 60642.90, NNZs: 25000, Bias: 68.361218, T: 2490, Avg. loss: 0.000000\n",
      "Total training time: 0.12 seconds.\n",
      "-- Epoch 6\n",
      "Norm: 53068.24, NNZs: 25000, Bias: 68.361218, T: 2988, Avg. loss: 0.000000\n",
      "Total training time: 0.14 seconds.\n",
      "-- Epoch 7\n",
      "Norm: 47175.72, NNZs: 25000, Bias: 68.361218, T: 3486, Avg. loss: 0.000000\n",
      "Total training time: 0.15 seconds.\n",
      "-- Epoch 8\n",
      "Norm: 42460.98, NNZs: 25000, Bias: 68.361218, T: 3984, Avg. loss: 0.000000\n",
      "Total training time: 0.17 seconds.\n",
      "-- Epoch 9\n",
      "Norm: 38603.01, NNZs: 25000, Bias: 68.361218, T: 4482, Avg. loss: 0.000000\n",
      "Total training time: 0.19 seconds.\n",
      "Convergence after 9 epochs took 0.19 seconds\n"
     ]
    },
    {
     "data": {
      "text/plain": [
       "SGDClassifier(alpha=0.0001, average=False, class_weight=None,\n",
       "              early_stopping=False, epsilon=0.1, eta0=0.0, fit_intercept=True,\n",
       "              l1_ratio=0.15, learning_rate='optimal', loss='hinge',\n",
       "              max_iter=1000, n_iter_no_change=5, n_jobs=None, penalty='l2',\n",
       "              power_t=0.5, random_state=None, shuffle=True, tol=0.001,\n",
       "              validation_fraction=0.1, verbose=2, warm_start=False)"
      ]
     },
     "execution_count": 27,
     "metadata": {},
     "output_type": "execute_result"
    }
   ],
   "source": [
    "best_model = model\n",
    "\n",
    "best_model.fit(X_train, y_train)"
   ]
  },
  {
   "cell_type": "code",
   "execution_count": 28,
   "metadata": {},
   "outputs": [],
   "source": [
    "# Grab extracted features and labels (TEST SET)\n",
    "with h5.File('features_test.h5', 'r') as file:\n",
    "    X_test, y_test = file['images'][:], file['labels'][:]"
   ]
  },
  {
   "cell_type": "code",
   "execution_count": 29,
   "metadata": {},
   "outputs": [],
   "source": [
    "y_hat = best_model.predict(X_test)"
   ]
  },
  {
   "cell_type": "code",
   "execution_count": 30,
   "metadata": {},
   "outputs": [
    {
     "name": "stdout",
     "output_type": "stream",
     "text": [
      "              precision    recall  f1-score   support\n",
      "\n",
      "           0       0.84      0.88      0.86       250\n",
      "           1       0.87      0.84      0.85       250\n",
      "\n",
      "    accuracy                           0.86       500\n",
      "   macro avg       0.86      0.86      0.86       500\n",
      "weighted avg       0.86      0.86      0.86       500\n",
      "\n"
     ]
    }
   ],
   "source": [
    "confusion_matrix = classification_report(y_test, y_hat)\n",
    "print(confusion_matrix)"
   ]
  }
 ],
 "metadata": {
  "kernelspec": {
   "display_name": "Python 3",
   "language": "python",
   "name": "python3"
  },
  "language_info": {
   "codemirror_mode": {
    "name": "ipython",
    "version": 3
   },
   "file_extension": ".py",
   "mimetype": "text/x-python",
   "name": "python",
   "nbconvert_exporter": "python",
   "pygments_lexer": "ipython3",
   "version": "3.6.8"
  }
 },
 "nbformat": 4,
 "nbformat_minor": 4
}
