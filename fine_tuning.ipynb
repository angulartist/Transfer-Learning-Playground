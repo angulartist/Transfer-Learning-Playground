{
 "cells": [
  {
   "cell_type": "markdown",
   "metadata": {},
   "source": [
    "### Transfer learning / Keras"
   ]
  },
  {
   "cell_type": "code",
   "execution_count": 3,
   "metadata": {},
   "outputs": [
    {
     "name": "stderr",
     "output_type": "stream",
     "text": [
      "Using TensorFlow backend.\n"
     ]
    }
   ],
   "source": [
    "from keras.optimizers import RMSprop\n",
    "\n",
    "from keras.applications import ResNet50, VGG16, MobileNet\n",
    "from keras.models import Model\n",
    "from keras.layers import (\n",
    "    Input, Dense, \n",
    "    Dropout, BatchNormalization,\n",
    "    Flatten)\n",
    "\n",
    "from albumentations import (\n",
    "    Compose, ShiftScaleRotate\n",
    ")\n",
    "\n",
    "from h5imagegenerator import HDF5ImageGenerator"
   ]
  },
  {
   "cell_type": "code",
   "execution_count": 4,
   "metadata": {},
   "outputs": [],
   "source": [
    "base = VGG16(\n",
    "    weights='imagenet',\n",
    "    include_top=False,\n",
    "    input_shape=(224, 224, 3),\n",
    ")"
   ]
  },
  {
   "cell_type": "code",
   "execution_count": 5,
   "metadata": {},
   "outputs": [
    {
     "name": "stdout",
     "output_type": "stream",
     "text": [
      "Model: \"vgg16\"\n",
      "_________________________________________________________________\n",
      "Layer (type)                 Output Shape              Param #   \n",
      "=================================================================\n",
      "input_1 (InputLayer)         (None, 224, 224, 3)       0         \n",
      "_________________________________________________________________\n",
      "block1_conv1 (Conv2D)        (None, 224, 224, 64)      1792      \n",
      "_________________________________________________________________\n",
      "block1_conv2 (Conv2D)        (None, 224, 224, 64)      36928     \n",
      "_________________________________________________________________\n",
      "block1_pool (MaxPooling2D)   (None, 112, 112, 64)      0         \n",
      "_________________________________________________________________\n",
      "block2_conv1 (Conv2D)        (None, 112, 112, 128)     73856     \n",
      "_________________________________________________________________\n",
      "block2_conv2 (Conv2D)        (None, 112, 112, 128)     147584    \n",
      "_________________________________________________________________\n",
      "block2_pool (MaxPooling2D)   (None, 56, 56, 128)       0         \n",
      "_________________________________________________________________\n",
      "block3_conv1 (Conv2D)        (None, 56, 56, 256)       295168    \n",
      "_________________________________________________________________\n",
      "block3_conv2 (Conv2D)        (None, 56, 56, 256)       590080    \n",
      "_________________________________________________________________\n",
      "block3_conv3 (Conv2D)        (None, 56, 56, 256)       590080    \n",
      "_________________________________________________________________\n",
      "block3_pool (MaxPooling2D)   (None, 28, 28, 256)       0         \n",
      "_________________________________________________________________\n",
      "block4_conv1 (Conv2D)        (None, 28, 28, 512)       1180160   \n",
      "_________________________________________________________________\n",
      "block4_conv2 (Conv2D)        (None, 28, 28, 512)       2359808   \n",
      "_________________________________________________________________\n",
      "block4_conv3 (Conv2D)        (None, 28, 28, 512)       2359808   \n",
      "_________________________________________________________________\n",
      "block4_pool (MaxPooling2D)   (None, 14, 14, 512)       0         \n",
      "_________________________________________________________________\n",
      "block5_conv1 (Conv2D)        (None, 14, 14, 512)       2359808   \n",
      "_________________________________________________________________\n",
      "block5_conv2 (Conv2D)        (None, 14, 14, 512)       2359808   \n",
      "_________________________________________________________________\n",
      "block5_conv3 (Conv2D)        (None, 14, 14, 512)       2359808   \n",
      "_________________________________________________________________\n",
      "block5_pool (MaxPooling2D)   (None, 7, 7, 512)         0         \n",
      "=================================================================\n",
      "Total params: 14,714,688\n",
      "Trainable params: 14,714,688\n",
      "Non-trainable params: 0\n",
      "_________________________________________________________________\n"
     ]
    }
   ],
   "source": [
    "base.summary()"
   ]
  },
  {
   "cell_type": "code",
   "execution_count": 6,
   "metadata": {},
   "outputs": [],
   "source": [
    "class Head:\n",
    "    @staticmethod\n",
    "    def build(base, num_classes):\n",
    "        head = base.output\n",
    "        \n",
    "        head = Flatten()(head)\n",
    "        head = Dense(512, activation='relu')(head)\n",
    "        head = Dense(256, activation='relu')(head)\n",
    "        head = BatchNormalization()(head)\n",
    "        head = Dropout(0.5)(head)\n",
    "        \n",
    "        head = Dense(num_classes, activation='softmax')(head)\n",
    "        \n",
    "        return head"
   ]
  },
  {
   "cell_type": "code",
   "execution_count": 8,
   "metadata": {},
   "outputs": [],
   "source": [
    "head = Head.build(base, num_classes=2)"
   ]
  },
  {
   "cell_type": "code",
   "execution_count": 9,
   "metadata": {},
   "outputs": [],
   "source": [
    "model = Model(inputs=base.input, outputs=head)"
   ]
  },
  {
   "cell_type": "code",
   "execution_count": 10,
   "metadata": {},
   "outputs": [],
   "source": [
    "for layer in base.layers:\n",
    "    layer.trainable = False"
   ]
  },
  {
   "cell_type": "code",
   "execution_count": 13,
   "metadata": {},
   "outputs": [],
   "source": [
    "num_epochs = 25\n",
    "batch_size = 32"
   ]
  },
  {
   "cell_type": "code",
   "execution_count": 16,
   "metadata": {},
   "outputs": [],
   "source": [
    "aug = Compose([\n",
    "    ShiftScaleRotate(\n",
    "        shift_limit=0.02,\n",
    "        scale_limit=0.04,\n",
    "        rotate_limit=15,\n",
    "    )\n",
    "])\n",
    "\n",
    "train_gen = HDF5ImageGenerator(\n",
    "    src= 'train.h5',\n",
    "    scaler=True,\n",
    "    num_classes=2,\n",
    "    batch_size=batch_size,\n",
    "    augmenter=aug,\n",
    ")\n",
    "\n",
    "val_gen = HDF5ImageGenerator(\n",
    "    src= 'val.h5',\n",
    "    scaler=True,\n",
    "    num_classes=2,\n",
    "    batch_size=batch_size,\n",
    ")"
   ]
  },
  {
   "cell_type": "code",
   "execution_count": 17,
   "metadata": {},
   "outputs": [
    {
     "name": "stdout",
     "output_type": "stream",
     "text": [
      "Epoch 1/25\n",
      "13/13 [==============================] - 6s 475ms/step - loss: 0.8290 - accuracy: 0.6960 - val_loss: 14.3223 - val_accuracy: 0.5100\n",
      "Epoch 2/25\n",
      "13/13 [==============================] - 2s 146ms/step - loss: 0.3549 - accuracy: 0.8392 - val_loss: 1.1159 - val_accuracy: 0.7500\n",
      "Epoch 3/25\n",
      "13/13 [==============================] - 2s 149ms/step - loss: 0.1522 - accuracy: 0.9372 - val_loss: 0.0000e+00 - val_accuracy: 0.5100\n",
      "Epoch 4/25\n",
      "13/13 [==============================] - 2s 150ms/step - loss: 0.1475 - accuracy: 0.9497 - val_loss: 16.3655 - val_accuracy: 0.5100\n",
      "Epoch 5/25\n",
      "13/13 [==============================] - 2s 149ms/step - loss: 0.1062 - accuracy: 0.9673 - val_loss: 1.9187 - val_accuracy: 0.6900\n",
      "Epoch 6/25\n",
      "13/13 [==============================] - 2s 155ms/step - loss: 0.0618 - accuracy: 0.9774 - val_loss: 4.5293 - val_accuracy: 0.7400\n",
      "Epoch 7/25\n",
      "13/13 [==============================] - 2s 151ms/step - loss: 0.0752 - accuracy: 0.9724 - val_loss: 6.6695 - val_accuracy: 0.5100\n",
      "Epoch 8/25\n",
      "13/13 [==============================] - 2s 147ms/step - loss: 0.0932 - accuracy: 0.9648 - val_loss: 1.3681 - val_accuracy: 0.5900\n",
      "Epoch 9/25\n",
      "13/13 [==============================] - 2s 145ms/step - loss: 0.0597 - accuracy: 0.9849 - val_loss: 0.0072 - val_accuracy: 0.7900\n",
      "Epoch 10/25\n",
      "13/13 [==============================] - 2s 147ms/step - loss: 0.0261 - accuracy: 0.9950 - val_loss: 1.5012e-04 - val_accuracy: 0.6200\n",
      "Epoch 11/25\n",
      "13/13 [==============================] - 2s 151ms/step - loss: 0.0448 - accuracy: 0.9849 - val_loss: 0.0012 - val_accuracy: 0.8000\n",
      "Epoch 12/25\n",
      "13/13 [==============================] - 2s 148ms/step - loss: 0.0307 - accuracy: 0.9899 - val_loss: 2.4860 - val_accuracy: 0.7400\n",
      "Epoch 13/25\n",
      "13/13 [==============================] - 2s 149ms/step - loss: 0.0491 - accuracy: 0.9874 - val_loss: 7.8410 - val_accuracy: 0.6200\n",
      "Epoch 14/25\n",
      "13/13 [==============================] - 2s 150ms/step - loss: 0.0503 - accuracy: 0.9799 - val_loss: 1.9172 - val_accuracy: 0.7800\n",
      "Epoch 15/25\n",
      "13/13 [==============================] - 2s 154ms/step - loss: 0.0482 - accuracy: 0.9774 - val_loss: 5.6586 - val_accuracy: 0.5300\n",
      "Epoch 16/25\n",
      "13/13 [==============================] - 2s 150ms/step - loss: 0.0290 - accuracy: 0.9899 - val_loss: 0.5554 - val_accuracy: 0.6800\n",
      "Epoch 17/25\n",
      "13/13 [==============================] - 2s 148ms/step - loss: 0.1138 - accuracy: 0.9573 - val_loss: 1.3764 - val_accuracy: 0.6900\n",
      "Epoch 18/25\n",
      "13/13 [==============================] - 2s 153ms/step - loss: 0.0432 - accuracy: 0.9874 - val_loss: 3.1555 - val_accuracy: 0.7600\n",
      "Epoch 19/25\n",
      "13/13 [==============================] - 2s 148ms/step - loss: 0.0172 - accuracy: 0.9925 - val_loss: 2.2125 - val_accuracy: 0.7600\n",
      "Epoch 20/25\n",
      "13/13 [==============================] - 2s 153ms/step - loss: 0.0267 - accuracy: 0.9899 - val_loss: 0.5746 - val_accuracy: 0.7600\n",
      "Epoch 21/25\n",
      "13/13 [==============================] - 2s 149ms/step - loss: 0.0090 - accuracy: 1.0000 - val_loss: 0.0060 - val_accuracy: 0.7500\n",
      "Epoch 22/25\n",
      "13/13 [==============================] - 2s 151ms/step - loss: 0.0259 - accuracy: 0.9849 - val_loss: 0.3046 - val_accuracy: 0.8000\n",
      "Epoch 23/25\n",
      "13/13 [==============================] - 2s 153ms/step - loss: 0.0092 - accuracy: 0.9975 - val_loss: 0.0195 - val_accuracy: 0.6800\n",
      "Epoch 24/25\n",
      "13/13 [==============================] - 2s 153ms/step - loss: 0.0392 - accuracy: 0.9899 - val_loss: 8.1154 - val_accuracy: 0.6000\n",
      "Epoch 25/25\n",
      "13/13 [==============================] - 2s 148ms/step - loss: 0.0255 - accuracy: 0.9925 - val_loss: 1.3157 - val_accuracy: 0.6100\n"
     ]
    }
   ],
   "source": [
    "rms = RMSprop(lr=0.001, rho=0.9)\n",
    "\n",
    "callbacks = []\n",
    "\n",
    "model.compile(\n",
    "    loss='categorical_crossentropy',\n",
    "    metrics=['accuracy'],\n",
    "    optimizer=rms\n",
    ")\n",
    "\n",
    "h = model.fit_generator(\n",
    "    train_gen,\n",
    "    validation_data=val_gen,\n",
    "    #workers=10,\n",
    "    #use_multiprocessing=True,\n",
    "    verbose=1,\n",
    "    epochs=num_epochs\n",
    ")"
   ]
  }
 ],
 "metadata": {
  "kernelspec": {
   "display_name": "Python 3",
   "language": "python",
   "name": "python3"
  },
  "language_info": {
   "codemirror_mode": {
    "name": "ipython",
    "version": 3
   },
   "file_extension": ".py",
   "mimetype": "text/x-python",
   "name": "python",
   "nbconvert_exporter": "python",
   "pygments_lexer": "ipython3",
   "version": "3.6.8"
  }
 },
 "nbformat": 4,
 "nbformat_minor": 4
}
